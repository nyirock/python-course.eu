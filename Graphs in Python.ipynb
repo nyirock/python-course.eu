{
 "cells": [
  {
   "cell_type": "markdown",
   "metadata": {},
   "source": [
    "# Graphs in Python\n",
    "https://www.python-course.eu/graphs_python.php"
   ]
  },
  {
   "cell_type": "code",
   "execution_count": 1,
   "metadata": {
    "collapsed": true
   },
   "outputs": [],
   "source": [
    "graph = { \"a\" : [\"c\"],\n",
    "          \"b\" : [\"c\", \"e\"],\n",
    "          \"c\" : [\"a\", \"b\", \"d\", \"e\"],\n",
    "          \"d\" : [\"c\"],\n",
    "          \"e\" : [\"c\", \"b\"],\n",
    "          \"f\" : []\n",
    "        }"
   ]
  },
  {
   "cell_type": "code",
   "execution_count": 2,
   "metadata": {},
   "outputs": [
    {
     "data": {
      "text/plain": [
       "{'a': ['c'],\n",
       " 'b': ['c', 'e'],\n",
       " 'c': ['a', 'b', 'd', 'e'],\n",
       " 'd': ['c'],\n",
       " 'e': ['c', 'b'],\n",
       " 'f': []}"
      ]
     },
     "execution_count": 2,
     "metadata": {},
     "output_type": "execute_result"
    }
   ],
   "source": [
    "graph"
   ]
  },
  {
   "cell_type": "markdown",
   "metadata": {},
   "source": [
    "### Generate edges"
   ]
  },
  {
   "cell_type": "code",
   "execution_count": 6,
   "metadata": {},
   "outputs": [
    {
     "data": {
      "text/plain": [
       "10"
      ]
     },
     "execution_count": 6,
     "metadata": {},
     "output_type": "execute_result"
    }
   ],
   "source": [
    "def generate_edges(graph):\n",
    "    edges=[]\n",
    "    for node in graph:\n",
    "        for neighbour in graph[node]:\n",
    "            edges.append((node, neighbour))\n",
    "    return edges\n",
    "len(generate_edges(graph))"
   ]
  },
  {
   "cell_type": "code",
   "execution_count": 9,
   "metadata": {},
   "outputs": [
    {
     "data": {
      "text/plain": [
       "['f']"
      ]
     },
     "execution_count": 9,
     "metadata": {},
     "output_type": "execute_result"
    }
   ],
   "source": [
    "def find_isolated(graph):\n",
    "    isolated=[]\n",
    "    for node in graph:\n",
    "        if not graph[node]:\n",
    "            isolated.append(node)\n",
    "    return isolated\n",
    "find_isolated(graph)"
   ]
  },
  {
   "cell_type": "code",
   "execution_count": 11,
   "metadata": {},
   "outputs": [
    {
     "data": {
      "text/plain": [
       "['x']"
      ]
     },
     "execution_count": 11,
     "metadata": {},
     "output_type": "execute_result"
    }
   ],
   "source": [
    "[]+['x']"
   ]
  },
  {
   "cell_type": "code",
   "execution_count": null,
   "metadata": {
    "collapsed": true
   },
   "outputs": [],
   "source": []
  },
  {
   "cell_type": "code",
   "execution_count": 17,
   "metadata": {},
   "outputs": [],
   "source": [
    "a=set((2, 23))\n",
    "v1,v2= tuple(a)"
   ]
  },
  {
   "cell_type": "code",
   "execution_count": 18,
   "metadata": {},
   "outputs": [
    {
     "data": {
      "text/plain": [
       "True"
      ]
     },
     "execution_count": 18,
     "metadata": {},
     "output_type": "execute_result"
    }
   ],
   "source": [
    "{2,5} == {5, 2}"
   ]
  },
  {
   "cell_type": "code",
   "execution_count": 20,
   "metadata": {},
   "outputs": [
    {
     "data": {
      "text/plain": [
       "False"
      ]
     },
     "execution_count": 20,
     "metadata": {},
     "output_type": "execute_result"
    }
   ],
   "source": [
    "(2,5) == (5, 2)"
   ]
  },
  {
   "cell_type": "code",
   "execution_count": null,
   "metadata": {
    "collapsed": true
   },
   "outputs": [],
   "source": []
  },
  {
   "cell_type": "markdown",
   "metadata": {},
   "source": [
    "## Graphs Class"
   ]
  },
  {
   "cell_type": "code",
   "execution_count": 51,
   "metadata": {},
   "outputs": [],
   "source": [
    "class Graph(object):\n",
    "    \n",
    "    def __init__(self, graph_dict=None):\n",
    "        if graph_dict == None:\n",
    "            graph_dict = {}\n",
    "        self.__graph_dict = graph_dict\n",
    "    \n",
    "    def vertices(self):\n",
    "        return list(self.__graph_dict.keys())\n",
    "    \n",
    "    def edges(self):\n",
    "        return self.__generate_edges()\n",
    "    \n",
    "    def add_vertex(self, vertex):\n",
    "        if vertex not in self.__graph_dict:\n",
    "            self.__graph_dict[vertex] = []\n",
    "    \n",
    "    def add_edge(self, edge):\n",
    "        \n",
    "        edge = set(edge)\n",
    "        (vertex1, vertex2)=tuple(edge)\n",
    "        \n",
    "        if vertex1 in self.__graph_dict:\n",
    "            self.__graph_dict[vertex1].append(vertex2)\n",
    "        else:\n",
    "            self.__graph_dict[vertex1]=[vertex2]\n",
    "    \n",
    "    def __generate_edges(self):\n",
    "        \n",
    "        edges =[]\n",
    "        \n",
    "        for vertex in self.__graph_dict:\n",
    "            for neighbour in self.__graph_dict[vertex]:\n",
    "                if {neighbour, vertex} not in edges:\n",
    "                    edges.append({vertex, neighbour})\n",
    "        return edges\n",
    "    \n",
    "    def __str__(self):\n",
    "        res = \"vertices: \"\n",
    "        for k in self.__graph_dict:\n",
    "            res += str(k) + \" \"\n",
    "        res += \"\\nedges: \"\n",
    "        \n",
    "        for edge in self.__generate_edges():\n",
    "            res += str(edge) + \" \"\n",
    "        return res\n",
    "    \n",
    "\n",
    "#recursive path finder\n",
    "    def find_path(self, start_vertex, end_vertex, path=None):\n",
    "        \n",
    "        if path==None:\n",
    "            path=[]\n",
    "        \n",
    "        graph=self.__graph_dict\n",
    "        path=path+[start_vertex]\n",
    "        \n",
    "        if start_vertex == end_vertex:\n",
    "            return path\n",
    "        \n",
    "        if start_vertex not in graph:\n",
    "            return None\n",
    "        \n",
    "        for vertex in graph[start_vertex]:\n",
    "            if vertex not in path:\n",
    "                extended_path = self.find_path(vertex, end_vertex, path)\n",
    "                \n",
    "                if extended_path:\n",
    "                    return extended_path\n",
    "        return None\n",
    "    \n",
    "    #The method find_all_paths finds all the paths between a start vertex to an end vertex:   \n",
    "    def find_all_paths(self, start_vertex, end_vertex, path=[]):\n",
    "        \"\"\" find all paths from start_vertex to \n",
    "            end_vertex in graph \"\"\"\n",
    "        graph = self.__graph_dict \n",
    "        path = path + [start_vertex]\n",
    "        if start_vertex == end_vertex:\n",
    "            return [path]\n",
    "        if start_vertex not in graph:\n",
    "            return [],lo000000o099999999999999999999996\n",
    "        paths = []\n",
    "        for vertex in graph[start_vertex]:\n",
    "            if vertex not in path:\n",
    "                extended_paths = self.find_all_paths(vertex, \n",
    "                                                     end_vertex, \n",
    "                                                     path)\n",
    "                for p in extended_paths: \n",
    "                    paths.append(p)\n",
    "        return paths"
   ]
  },
  {
   "cell_type": "code",
   "execution_count": 22,
   "metadata": {},
   "outputs": [],
   "source": [
    "g = { 'a': ['d'],\n",
    "      'b': ['c'],\n",
    "      'c': ['b', 'c', 'd','e'],\n",
    "      'd': ['a', 'c'],\n",
    "      'e': ['c'],\n",
    "      'f': []\n",
    "}"
   ]
  },
  {
   "cell_type": "code",
   "execution_count": 25,
   "metadata": {
    "collapsed": true
   },
   "outputs": [],
   "source": [
    "graph=Graph(g)"
   ]
  },
  {
   "cell_type": "code",
   "execution_count": 26,
   "metadata": {},
   "outputs": [
    {
     "name": "stdout",
     "output_type": "stream",
     "text": [
      "Vertices of graph:\n",
      "['a', 'b', 'c', 'd', 'e', 'f']\n"
     ]
    }
   ],
   "source": [
    "print(\"Vertices of graph:\")\n",
    "print(graph.vertices())"
   ]
  },
  {
   "cell_type": "code",
   "execution_count": 27,
   "metadata": {},
   "outputs": [
    {
     "name": "stdout",
     "output_type": "stream",
     "text": [
      "Edges of graph:\n",
      "[{'d', 'a'}, {'b', 'c'}, {'c'}, {'d', 'c'}, {'e', 'c'}]\n"
     ]
    }
   ],
   "source": [
    "print(\"Edges of graph:\")\n",
    "print(graph.edges())"
   ]
  },
  {
   "cell_type": "code",
   "execution_count": 28,
   "metadata": {},
   "outputs": [
    {
     "name": "stdout",
     "output_type": "stream",
     "text": [
      "Add vertex:\n"
     ]
    }
   ],
   "source": [
    "print(\"Add vertex:\")\n",
    "graph.add_vertex(\"z\")"
   ]
  },
  {
   "cell_type": "code",
   "execution_count": 29,
   "metadata": {},
   "outputs": [
    {
     "name": "stdout",
     "output_type": "stream",
     "text": [
      "Vertices of graph:\n",
      "['a', 'b', 'c', 'd', 'e', 'f', 'z']\n"
     ]
    }
   ],
   "source": [
    "print(\"Vertices of graph:\")\n",
    "print(graph.vertices())"
   ]
  },
  {
   "cell_type": "code",
   "execution_count": 30,
   "metadata": {},
   "outputs": [
    {
     "name": "stdout",
     "output_type": "stream",
     "text": [
      "Add an edge:\n"
     ]
    }
   ],
   "source": [
    "print(\"Add an edge:\")\n",
    "graph.add_edge({\"a\",\"z\"})"
   ]
  },
  {
   "cell_type": "code",
   "execution_count": 31,
   "metadata": {},
   "outputs": [
    {
     "name": "stdout",
     "output_type": "stream",
     "text": [
      "Edges of graph:\n",
      "[{'d', 'a'}, {'b', 'c'}, {'c'}, {'d', 'c'}, {'e', 'c'}, {'z', 'a'}]\n"
     ]
    }
   ],
   "source": [
    "print(\"Edges of graph:\")\n",
    "print(graph.edges())"
   ]
  },
  {
   "cell_type": "code",
   "execution_count": 32,
   "metadata": {},
   "outputs": [
    {
     "name": "stdout",
     "output_type": "stream",
     "text": [
      "Add an edge:\n"
     ]
    },
    {
     "ename": "ValueError",
     "evalue": "not enough values to unpack (expected 2, got 1)",
     "output_type": "error",
     "traceback": [
      "\u001b[1;31m---------------------------------------------------------------------------\u001b[0m",
      "\u001b[1;31mValueError\u001b[0m                                Traceback (most recent call last)",
      "\u001b[1;32m<ipython-input-32-501375aec1d2>\u001b[0m in \u001b[0;36m<module>\u001b[1;34m()\u001b[0m\n\u001b[0;32m      1\u001b[0m \u001b[0mprint\u001b[0m\u001b[1;33m(\u001b[0m\u001b[1;34m\"Add an edge:\"\u001b[0m\u001b[1;33m)\u001b[0m\u001b[1;33m\u001b[0m\u001b[0m\n\u001b[1;32m----> 2\u001b[1;33m \u001b[0mgraph\u001b[0m\u001b[1;33m.\u001b[0m\u001b[0madd_edge\u001b[0m\u001b[1;33m(\u001b[0m\u001b[1;33m{\u001b[0m\u001b[1;34m\"a\"\u001b[0m\u001b[1;33m,\u001b[0m\u001b[1;34m\"a\"\u001b[0m\u001b[1;33m}\u001b[0m\u001b[1;33m)\u001b[0m\u001b[1;33m\u001b[0m\u001b[0m\n\u001b[0m",
      "\u001b[1;32m<ipython-input-24-ef2f2cbbb6a5>\u001b[0m in \u001b[0;36madd_edge\u001b[1;34m(self, edge)\u001b[0m\n\u001b[0;32m     19\u001b[0m \u001b[1;33m\u001b[0m\u001b[0m\n\u001b[0;32m     20\u001b[0m         \u001b[0medge\u001b[0m \u001b[1;33m=\u001b[0m \u001b[0mset\u001b[0m\u001b[1;33m(\u001b[0m\u001b[0medge\u001b[0m\u001b[1;33m)\u001b[0m\u001b[1;33m\u001b[0m\u001b[0m\n\u001b[1;32m---> 21\u001b[1;33m         \u001b[1;33m(\u001b[0m\u001b[0mvertex1\u001b[0m\u001b[1;33m,\u001b[0m \u001b[0mvertex2\u001b[0m\u001b[1;33m)\u001b[0m\u001b[1;33m=\u001b[0m\u001b[0mtuple\u001b[0m\u001b[1;33m(\u001b[0m\u001b[0medge\u001b[0m\u001b[1;33m)\u001b[0m\u001b[1;33m\u001b[0m\u001b[0m\n\u001b[0m\u001b[0;32m     22\u001b[0m \u001b[1;33m\u001b[0m\u001b[0m\n\u001b[0;32m     23\u001b[0m         \u001b[1;32mif\u001b[0m \u001b[0mvertex1\u001b[0m \u001b[1;32min\u001b[0m \u001b[0mself\u001b[0m\u001b[1;33m.\u001b[0m\u001b[0m__graph_dict\u001b[0m\u001b[1;33m:\u001b[0m\u001b[1;33m\u001b[0m\u001b[0m\n",
      "\u001b[1;31mValueError\u001b[0m: not enough values to unpack (expected 2, got 1)"
     ]
    }
   ],
   "source": [
    "print(\"Add an edge:\")\n",
    "graph.add_edge({\"a\",\"a\"})"
   ]
  },
  {
   "cell_type": "code",
   "execution_count": 33,
   "metadata": {},
   "outputs": [
    {
     "name": "stdout",
     "output_type": "stream",
     "text": [
      "Adding an edge {\"x\",\"y\"} with new vertices:\n",
      "Vertices of graph:\n",
      "['a', 'b', 'c', 'd', 'e', 'f', 'z', 'y']\n",
      "Edges of graph:\n",
      "[{'d', 'a'}, {'b', 'c'}, {'c'}, {'d', 'c'}, {'e', 'c'}, {'z', 'a'}, {'y', 'x'}]\n"
     ]
    }
   ],
   "source": [
    "print('Adding an edge {\"x\",\"y\"} with new vertices:')\n",
    "graph.add_edge({\"x\",\"y\"})\n",
    "print(\"Vertices of graph:\")\n",
    "print(graph.vertices())\n",
    "print(\"Edges of graph:\")\n",
    "print(graph.edges())"
   ]
  },
  {
   "cell_type": "code",
   "execution_count": 35,
   "metadata": {
    "collapsed": true
   },
   "outputs": [],
   "source": [
    "\n",
    "g = { \"a\" : [\"d\"],\n",
    "      \"b\" : [\"c\"],\n",
    "      \"c\" : [\"b\", \"c\", \"d\", \"e\"],\n",
    "      \"d\" : [\"a\", \"c\"],\n",
    "      \"e\" : [\"c\"],\n",
    "      \"f\" : []\n",
    "    }"
   ]
  },
  {
   "cell_type": "code",
   "execution_count": 36,
   "metadata": {},
   "outputs": [
    {
     "name": "stdout",
     "output_type": "stream",
     "text": [
      "Vertices of graph:\n",
      "['a', 'b', 'c', 'd', 'e', 'f']\n",
      "Edges of graph:\n",
      "[{'d', 'a'}, {'b', 'c'}, {'c'}, {'d', 'c'}, {'e', 'c'}]\n"
     ]
    }
   ],
   "source": [
    "graph = Graph(g)\n",
    "\n",
    "print(\"Vertices of graph:\")\n",
    "print(graph.vertices())\n",
    "\n",
    "print(\"Edges of graph:\")\n",
    "print(graph.edges())"
   ]
  },
  {
   "cell_type": "code",
   "execution_count": 37,
   "metadata": {},
   "outputs": [
    {
     "name": "stdout",
     "output_type": "stream",
     "text": [
      "The path from vertex \"a\" to vertex \"b\":\n",
      "['a', 'd', 'c', 'b']\n"
     ]
    }
   ],
   "source": [
    "print('The path from vertex \"a\" to vertex \"b\":')\n",
    "path = graph.find_path(\"a\", \"b\")\n",
    "print(path)"
   ]
  },
  {
   "cell_type": "code",
   "execution_count": 38,
   "metadata": {},
   "outputs": [
    {
     "name": "stdout",
     "output_type": "stream",
     "text": [
      "The path from vertex \"a\" to vertex \"f\":\n",
      "None\n"
     ]
    }
   ],
   "source": [
    "print('The path from vertex \"a\" to vertex \"f\":')\n",
    "path = graph.find_path(\"a\", \"f\")\n",
    "print(path)"
   ]
  },
  {
   "cell_type": "code",
   "execution_count": 39,
   "metadata": {},
   "outputs": [
    {
     "name": "stdout",
     "output_type": "stream",
     "text": [
      "The path from vertex \"c\" to vertex \"c\":\n",
      "['c']\n"
     ]
    }
   ],
   "source": [
    "print('The path from vertex \"c\" to vertex \"c\":')\n",
    "path = graph.find_path(\"c\", \"c\")\n",
    "print(path)"
   ]
  },
  {
   "cell_type": "code",
   "execution_count": 40,
   "metadata": {},
   "outputs": [
    {
     "name": "stdout",
     "output_type": "stream",
     "text": [
      "The path from vertex \"a\" to vertex \"a\":\n",
      "['a']\n"
     ]
    }
   ],
   "source": [
    "print('The path from vertex \"a\" to vertex \"a\":')\n",
    "path = graph.find_path(\"a\", \"a\")\n",
    "print(path)"
   ]
  },
  {
   "cell_type": "code",
   "execution_count": 42,
   "metadata": {
    "collapsed": true
   },
   "outputs": [],
   "source": [
    "# modified graph, to test path_finder\n",
    "g = { \"a\" : [\"d\", \"f\"],\n",
    "      \"b\" : [\"c\"],\n",
    "      \"c\" : [\"b\", \"c\", \"d\", \"e\"],\n",
    "      \"d\" : [\"a\", \"c\"],\n",
    "      \"e\" : [\"c\"],\n",
    "      \"f\" : [\"d\"]\n",
    "    }"
   ]
  },
  {
   "cell_type": "code",
   "execution_count": 45,
   "metadata": {},
   "outputs": [
    {
     "name": "stdout",
     "output_type": "stream",
     "text": [
      "Vertices of graph:\n",
      "['a', 'b', 'c', 'd', 'e', 'f']\n",
      "Edges of graph:\n",
      "[{'d', 'a'}, {'f', 'a'}, {'b', 'c'}, {'c'}, {'d', 'c'}, {'e', 'c'}, {'d', 'f'}]\n"
     ]
    }
   ],
   "source": [
    "graph = Graph(g)\n",
    "\n",
    "print(\"Vertices of graph:\")\n",
    "print(graph.vertices())\n",
    "\n",
    "print(\"Edges of graph:\")\n",
    "print(graph.edges())\n",
    "\n",
    "\n"
   ]
  },
  {
   "cell_type": "code",
   "execution_count": 14,
   "metadata": {},
   "outputs": [],
   "source": [
    "class Graph(object):\n",
    "\n",
    "    def __init__(self, graph_dict=None):\n",
    "        \"\"\" initializes a graph object \n",
    "            If no dictionary or None is given, \n",
    "            an empty dictionary will be used\n",
    "        \"\"\"\n",
    "        if graph_dict == None:\n",
    "            graph_dict = {}\n",
    "        self.__graph_dict = graph_dict\n",
    "\n",
    "    def vertices(self):\n",
    "        \"\"\" returns the vertices of a graph \"\"\"\n",
    "        return list(self.__graph_dict.keys())\n",
    "\n",
    "    def edges(self):\n",
    "        \"\"\" returns the edges of a graph \"\"\"\n",
    "        return self.__generate_edges()\n",
    "\n",
    "    def add_vertex(self, vertex):\n",
    "        \"\"\" If the vertex \"vertex\" is not in \n",
    "            self.__graph_dict, a key \"vertex\" with an empty\n",
    "            list as a value is added to the dictionary. \n",
    "            Otherwise nothing has to be done. \n",
    "        \"\"\"\n",
    "        if vertex not in self.__graph_dict:\n",
    "            self.__graph_dict[vertex] = []\n",
    "\n",
    "    def add_edge(self, edge):\n",
    "        \"\"\" assumes that edge is of type set, tuple or list; \n",
    "            between two vertices can be multiple edges! \n",
    "        \"\"\"\n",
    "        edge = set(edge)\n",
    "        (vertex1, vertex2) = tuple(edge)\n",
    "        if vertex1 in self.__graph_dict:\n",
    "            self.__graph_dict[vertex1].append(vertex2)\n",
    "        else:\n",
    "            self.__graph_dict[vertex1] = [vertex2]\n",
    "\n",
    "    def __generate_edges(self):\n",
    "        \"\"\" A static method generating the edges of the \n",
    "            graph \"graph\". Edges are represented as sets \n",
    "            with one (a loop back to the vertex) or two \n",
    "            vertices \n",
    "        \"\"\"\n",
    "        edges = []\n",
    "        for vertex in self.__graph_dict:\n",
    "            for neighbour in self.__graph_dict[vertex]:\n",
    "                if {neighbour, vertex} not in edges:\n",
    "                    edges.append({vertex, neighbour})\n",
    "        return edges\n",
    "\n",
    "    def __str__(self):\n",
    "        res = \"vertices: \"\n",
    "        for k in self.__graph_dict:\n",
    "            res += str(k) + \" \"\n",
    "        res += \"\\nedges: \"\n",
    "        for edge in self.__generate_edges():\n",
    "            res += str(edge) + \" \"\n",
    "        return res\n",
    "    \n",
    "    \n",
    "    \n",
    "    def find_all_paths(self, start_vertex, end_vertex, path=[]):\n",
    "        \"\"\" find all paths from start_vertex to \n",
    "            end_vertex in graph \"\"\"\n",
    "        graph = self.__graph_dict \n",
    "        path = path + [start_vertex]\n",
    "        if start_vertex == end_vertex:\n",
    "            return [path]\n",
    "        if start_vertex not in graph:\n",
    "            return []\n",
    "        paths = []\n",
    "        for vertex in graph[start_vertex]:\n",
    "            if vertex not in path:\n",
    "                extended_paths = self.find_all_paths(vertex, \n",
    "                                                     end_vertex, \n",
    "                                                     path)\n",
    "                print(\"<\")\n",
    "                print(extended_paths,path, paths)\n",
    "                print(\">\")\n",
    "                for p in extended_paths: \n",
    "                    paths.append(p)\n",
    "        return paths    \n",
    "\n"
   ]
  },
  {
   "cell_type": "code",
   "execution_count": 15,
   "metadata": {},
   "outputs": [
    {
     "name": "stdout",
     "output_type": "stream",
     "text": [
      "Vertices of graph:\n",
      "['a', 'c', 'b', 'e', 'd', 'f']\n",
      "Edges of graph:\n",
      "[set(['a', 'd']), set(['a', 'f']), set(['c', 'b']), set(['c']), set(['c', 'd']), set(['c', 'e']), set(['d', 'f'])]\n",
      "All paths from vertex \"a\" to vertex \"b\":\n",
      "<\n",
      "([['a', 'd', 'c', 'b']], ['a', 'd', 'c'], [])\n",
      ">\n",
      "<\n",
      "([], ['a', 'd', 'c'], [['a', 'd', 'c', 'b']])\n",
      ">\n",
      "<\n",
      "([['a', 'd', 'c', 'b']], ['a', 'd'], [])\n",
      ">\n",
      "<\n",
      "([['a', 'd', 'c', 'b']], ['a'], [])\n",
      ">\n",
      "<\n",
      "([['a', 'f', 'd', 'c', 'b']], ['a', 'f', 'd', 'c'], [])\n",
      ">\n",
      "<\n",
      "([], ['a', 'f', 'd', 'c'], [['a', 'f', 'd', 'c', 'b']])\n",
      ">\n",
      "<\n",
      "([['a', 'f', 'd', 'c', 'b']], ['a', 'f', 'd'], [])\n",
      ">\n",
      "<\n",
      "([['a', 'f', 'd', 'c', 'b']], ['a', 'f'], [])\n",
      ">\n",
      "<\n",
      "([['a', 'f', 'd', 'c', 'b']], ['a'], [['a', 'd', 'c', 'b']])\n",
      ">\n",
      "[['a', 'd', 'c', 'b'], ['a', 'f', 'd', 'c', 'b']]\n",
      "All paths from vertex \"a\" to vertex \"f\":\n",
      "<\n",
      "([], ['a', 'd', 'c'], [])\n",
      ">\n",
      "<\n",
      "([], ['a', 'd', 'c'], [])\n",
      ">\n",
      "<\n",
      "([], ['a', 'd'], [])\n",
      ">\n",
      "<\n",
      "([], ['a'], [])\n",
      ">\n",
      "<\n",
      "([['a', 'f']], ['a'], [])\n",
      ">\n",
      "[['a', 'f']]\n",
      "All paths from vertex \"c\" to vertex \"c\":\n",
      "[['c']]\n"
     ]
    }
   ],
   "source": [
    "\n",
    "g = { \"a\" : [\"d\", \"f\"],\n",
    "      \"b\" : [\"c\"],\n",
    "      \"c\" : [\"b\", \"c\", \"d\", \"e\"],\n",
    "      \"d\" : [\"a\", \"c\"],\n",
    "      \"e\" : [\"c\"],\n",
    "      \"f\" : [\"d\"]\n",
    "    }\n",
    "\n",
    "\n",
    "graph = Graph(g)\n",
    "\n",
    "print(\"Vertices of graph:\")\n",
    "print(graph.vertices())\n",
    "\n",
    "print(\"Edges of graph:\")\n",
    "print(graph.edges())\n",
    "\n",
    "\n",
    "print('All paths from vertex \"a\" to vertex \"b\":')\n",
    "path = graph.find_all_paths(\"a\", \"b\")\n",
    "print(path)\n",
    "\n",
    "print('All paths from vertex \"a\" to vertex \"f\":')\n",
    "path = graph.find_all_paths(\"a\", \"f\")\n",
    "print(path)\n",
    "\n",
    "print('All paths from vertex \"c\" to vertex \"c\":')\n",
    "path = graph.find_all_paths(\"c\", \"c\")\n",
    "print(path)"
   ]
  },
  {
   "cell_type": "code",
   "execution_count": null,
   "metadata": {},
   "outputs": [],
   "source": []
  }
 ],
 "metadata": {
  "anaconda-cloud": {},
  "kernelspec": {
   "display_name": "Python 2",
   "language": "python",
   "name": "python2"
  },
  "language_info": {
   "codemirror_mode": {
    "name": "ipython",
    "version": 2
   },
   "file_extension": ".py",
   "mimetype": "text/x-python",
   "name": "python",
   "nbconvert_exporter": "python",
   "pygments_lexer": "ipython2",
   "version": "2.7.6"
  }
 },
 "nbformat": 4,
 "nbformat_minor": 1
}
